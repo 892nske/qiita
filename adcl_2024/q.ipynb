{
 "cells": [
  {
   "cell_type": "code",
   "execution_count": 7,
   "id": "7b70deba-6ad2-4a77-9ff6-3123b38b6787",
   "metadata": {},
   "outputs": [
    {
     "name": "stdout",
     "output_type": "stream",
     "text": [
      "日次リターンの算術平均：0.0005695957234289291\n",
      "日次リターンの幾何平均：0.0003848538425392789\n",
      "日次リターンの標準偏差：0.019201459113214216\n"
     ]
    }
   ],
   "source": [
    "import pandas as pd\n",
    "import numpy as np\n",
    "import requests\n",
    "import json\n",
    "\n",
    "with open('idtoken.json', 'r', encoding='utf-8') as f:\n",
    "    idtoken = json.load(f)\n",
    "\n",
    "idToken = idtoken['idToken']\n",
    "ulr = 'https://api.jquants.com/v1/prices/daily_quotes'\n",
    "\n",
    "symbol = \"7203\"  \n",
    "start_date = \"2022-09-10\"\n",
    "end_date = \"2024-09-10\"\n",
    "\n",
    "headers = {'Authorization': 'Bearer {}'.format(idToken)}\n",
    "params = {\n",
    "    \"code\": symbol,\n",
    "    \"from\": start_date,\n",
    "    \"to\": end_date\n",
    "}\n",
    "response = requests.get(ulr, headers=headers, params=params)\n",
    "data = response.json()\n",
    "df = pd.DataFrame(data[\"daily_quotes\"])\n",
    "\n",
    "# リターンを計算\n",
    "df[\"daily_return\"] = df[\"Close\"].pct_change()\n",
    "\n",
    "# Calculate arithmetic mean, geometric mean, and standard deviation\n",
    "arithmetic_mean = df[\"daily_return\"].mean()\n",
    "geometric_mean = (1 + df[\"daily_return\"].dropna()).prod() ** (1 / len(df[\"daily_return\"].dropna())) - 1\n",
    "std_dev = df[\"daily_return\"].std()\n",
    "\n",
    "print(f'日次リターンの算術平均：{arithmetic_mean}')\n",
    "print(f'日次リターンの幾何平均：{geometric_mean}')\n",
    "print(f'日次リターンの標準偏差：{std_dev}')"
   ]
  },
  {
   "cell_type": "code",
   "execution_count": null,
   "id": "518f9816-848c-456b-a533-62baa0687ccf",
   "metadata": {},
   "outputs": [],
   "source": []
  }
 ],
 "metadata": {
  "kernelspec": {
   "display_name": "Python 3 (ipykernel)",
   "language": "python",
   "name": "python3"
  },
  "language_info": {
   "codemirror_mode": {
    "name": "ipython",
    "version": 3
   },
   "file_extension": ".py",
   "mimetype": "text/x-python",
   "name": "python",
   "nbconvert_exporter": "python",
   "pygments_lexer": "ipython3",
   "version": "3.8.13"
  }
 },
 "nbformat": 4,
 "nbformat_minor": 5
}
