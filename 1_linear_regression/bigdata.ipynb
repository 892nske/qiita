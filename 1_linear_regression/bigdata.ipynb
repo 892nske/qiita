{
 "cells": [
  {
   "cell_type": "code",
   "execution_count": 1,
   "id": "96f57506-2381-41f8-975b-9ba0b32f1070",
   "metadata": {},
   "outputs": [
    {
     "name": "stdout",
     "output_type": "stream",
     "text": [
      "OLS fitting time:  0.7474138736724854\n",
      "SGD fitting time:  0.2304213047027588\n"
     ]
    }
   ],
   "source": [
    "import time\n",
    "from sklearn.linear_model import LinearRegression, SGDRegressor\n",
    "from sklearn.datasets import make_regression\n",
    "\n",
    "# 1000個の特徴量を持つ擬似データを10000サンプル作成\n",
    "X, y = make_regression(n_samples=10000, n_features=1000, noise=0.1)\n",
    "\n",
    "# 最小二乗法と確率的勾配降下法のモデルを作成\n",
    "model_ols = LinearRegression()\n",
    "model_sgd = SGDRegressor(max_iter=1000, tol=1e-3)\n",
    "\n",
    "# 最小二乗法での学習時間の測定\n",
    "start = time.time()\n",
    "model_ols.fit(X, y)\n",
    "end = time.time()\n",
    "print(\"OLS fitting time: \", end - start)\n",
    "\n",
    "# 確率的勾配降下法での学習時間の測定\n",
    "start = time.time()\n",
    "model_sgd.fit(X, y)\n",
    "end = time.time()\n",
    "print(\"SGD fitting time: \", end - start)"
   ]
  },
  {
   "cell_type": "code",
   "execution_count": null,
   "id": "ae961be1-9c93-46a2-a40e-bb9b091465de",
   "metadata": {},
   "outputs": [],
   "source": []
  }
 ],
 "metadata": {
  "kernelspec": {
   "display_name": "Python 3 (ipykernel)",
   "language": "python",
   "name": "python3"
  },
  "language_info": {
   "codemirror_mode": {
    "name": "ipython",
    "version": 3
   },
   "file_extension": ".py",
   "mimetype": "text/x-python",
   "name": "python",
   "nbconvert_exporter": "python",
   "pygments_lexer": "ipython3",
   "version": "3.8.13"
  }
 },
 "nbformat": 4,
 "nbformat_minor": 5
}
