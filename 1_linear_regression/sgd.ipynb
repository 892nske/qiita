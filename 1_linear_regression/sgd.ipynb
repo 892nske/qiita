{
 "cells": [
  {
   "cell_type": "code",
   "execution_count": 11,
   "id": "980650a4-0777-4143-a665-9c6b3130f6f4",
   "metadata": {},
   "outputs": [],
   "source": [
    "import seaborn as sns\n",
    "import pandas as pd\n",
    "import numpy as np\n",
    "import matplotlib.pyplot as plt\n",
    "from sklearn.linear_model import SGDRegressor\n",
    "from sklearn.preprocessing import StandardScaler\n",
    "\n",
    "# データセットのロード\n",
    "penguins = sns.load_dataset('penguins')\n",
    "\n",
    "# NaN値を除去\n",
    "penguins = penguins.dropna(subset=['bill_length_mm', 'bill_depth_mm', 'flipper_length_mm', 'body_mass_g'])\n",
    "\n",
    "# Gentooペンギンのデータのみを抽出\n",
    "gentoo = penguins[penguins.species == 'Gentoo']\n",
    "\n",
    "# くちばしの長さと体重データを取得\n",
    "X = gentoo[['bill_length_mm']].values\n",
    "y = gentoo['body_mass_g'].values\n",
    "\n",
    "# データのスケーリング\n",
    "scaler_X = StandardScaler()\n",
    "scaler_y = StandardScaler()\n",
    "X = scaler_X.fit_transform(X)\n",
    "y = scaler_y.fit_transform(y.reshape(-1, 1)).ravel()\n",
    "\n",
    "# SGDRegressorモデルの作成と訓練\n",
    "sgd_model = SGDRegressor()\n",
    "sgd_model.fit(X, y)\n",
    "\n",
    "# モデルの予測値を算出\n",
    "y_pred = sgd_model.predict(X)\n",
    "\n",
    "# # 元のデータと予測のプロット\n",
    "# plt.figure(figsize=(10, 6))\n",
    "# plt.scatter(scaler_X.inverse_transform(X), scaler_y.inverse_transform(y), color='blue')\n",
    "# plt.plot(scaler_X.inverse_transform(X), scaler_y.inverse_transform(sgd_model.predict(X)), color='green')\n",
    "# plt.xlabel('Bill Length (mm)')\n",
    "# plt.ylabel('Body Mass (g)')\n",
    "# plt.title('SGD Regressor Prediction')\n",
    "# plt.show()\n"
   ]
  },
  {
   "cell_type": "code",
   "execution_count": 12,
   "id": "1e991beb-966d-435a-8f07-d6e872321dd3",
   "metadata": {
    "tags": []
   },
   "outputs": [
    {
     "data": {
      "text/plain": [
       "array([-1.14729922,  1.24284002, -1.24688835,  1.24284002,  0.64530521,\n",
       "       -1.04771008, -0.54976441,  0.24694867, -1.34647749,  0.14735953,\n",
       "       -0.84853181,  0.94407261, -0.84853181,  1.54160742, -1.74483403,\n",
       "        1.54160742, -1.84442316,  2.43790963, -0.54976441,  0.54571607,\n",
       "        1.24284002, -0.15140787, -1.34647749, -0.05181874, -0.15140787,\n",
       "        0.0477704 , -1.9440123 ,  1.14325088, -0.94812095,  0.94407261,\n",
       "        0.3465378 , -0.74894268, -0.05181874,  1.93996396,  0.14735953,\n",
       "        0.64530521, -0.25099701,  0.3465378 , -1.44606662,  0.54571607,\n",
       "       -2.2427797 ,  1.24284002, -1.54565576, -0.64935355,  0.94407261,\n",
       "       -0.35058614, -1.74483403,  0.64530521,  0.0477704 ,  0.44612694,\n",
       "       -0.45017528,  0.44612694, -1.34647749, -0.15140787, -0.35058614,\n",
       "       -0.05181874, -1.54565576, -0.15140787, -1.24688835,  0.94407261,\n",
       "       -1.74483403,  0.44612694, -1.34647749,  1.14325088, -0.74894268,\n",
       "        1.24284002, -0.84853181,  1.44201828, -0.74894268,  0.94407261,\n",
       "       -0.64935355, -0.15140787,  0.0477704 ,  0.24694867, -0.74894268,\n",
       "        1.44201828, -0.94812095,  1.84037482, -0.64935355,  1.74078569,\n",
       "       -0.89832638,  0.74489434, -0.69914811,  0.54571607, -0.64935355,\n",
       "        1.04366175, -0.94812095,  0.44612694, -0.40038071,  0.94407261,\n",
       "       -0.25099701,  0.64530521, -0.64935355,  1.14325088, -0.45017528,\n",
       "        0.24694867, -0.30079157, -0.40038071, -0.89832638,  0.3465378 ,\n",
       "       -0.45017528,  1.04366175, -0.20120244,  0.84448348, -0.69914811,\n",
       "        0.84448348, -0.74894268,  0.84448348, -0.99791552,  0.84448348,\n",
       "       -0.15140787,  1.74078569, -0.84853181,  0.84448348, -1.39627206,\n",
       "        1.54160742, -0.40038071,  1.84037482, -0.30079157, -0.45017528,\n",
       "        1.34242915,  0.24694867,  0.64530521])"
      ]
     },
     "execution_count": 12,
     "metadata": {},
     "output_type": "execute_result"
    }
   ],
   "source": []
  },
  {
   "cell_type": "code",
   "execution_count": null,
   "id": "f281d0d3-d707-47e3-801a-36735d9d3311",
   "metadata": {},
   "outputs": [],
   "source": []
  }
 ],
 "metadata": {
  "kernelspec": {
   "display_name": "default:Python",
   "language": "python",
   "name": "conda-env-default-py"
  },
  "language_info": {
   "codemirror_mode": {
    "name": "ipython",
    "version": 3
   },
   "file_extension": ".py",
   "mimetype": "text/x-python",
   "name": "python",
   "nbconvert_exporter": "python",
   "pygments_lexer": "ipython3",
   "version": "3.9.16"
  }
 },
 "nbformat": 4,
 "nbformat_minor": 5
}
