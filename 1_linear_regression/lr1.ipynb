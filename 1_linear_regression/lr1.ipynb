{
 "cells": [
  {
   "cell_type": "code",
   "execution_count": 14,
   "id": "fa579c46-5fe3-4812-b343-3b2ecf5d1bd5",
   "metadata": {
    "tags": []
   },
   "outputs": [],
   "source": [
    "import seaborn as sns\n",
    "import numpy as np\n",
    "from sklearn.model_selection import train_test_split\n",
    "from sklearn.linear_model import LinearRegression\n",
    "from sklearn.metrics import mean_squared_error\n",
    "\n",
    "# Load the penguins dataset\n",
    "penguins = sns.load_dataset('penguins')\n"
   ]
  },
  {
   "cell_type": "code",
   "execution_count": 15,
   "id": "0d9d63dc-c911-429d-a58c-fd0fd4fc3bfa",
   "metadata": {
    "tags": []
   },
   "outputs": [],
   "source": [
    "# Drop missing values\n",
    "penguins = penguins.dropna()\n",
    "\n",
    "# Define the target variable (y) and explanatory variables (X)\n",
    "y = penguins['body_mass_g']\n",
    "X = penguins[['bill_length_mm', 'bill_depth_mm']]"
   ]
  },
  {
   "cell_type": "code",
   "execution_count": null,
   "id": "01a83ec6-4a10-43cd-8818-7aff3e0384ea",
   "metadata": {},
   "outputs": [],
   "source": []
  }
 ],
 "metadata": {
  "kernelspec": {
   "display_name": "default:Python",
   "language": "python",
   "name": "conda-env-default-py"
  },
  "language_info": {
   "codemirror_mode": {
    "name": "ipython",
    "version": 3
   },
   "file_extension": ".py",
   "mimetype": "text/x-python",
   "name": "python",
   "nbconvert_exporter": "python",
   "pygments_lexer": "ipython3",
   "version": "3.9.16"
  }
 },
 "nbformat": 4,
 "nbformat_minor": 5
}
