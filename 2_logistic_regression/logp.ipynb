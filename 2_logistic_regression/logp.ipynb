{
 "cells": [
  {
   "cell_type": "code",
   "execution_count": 2,
   "id": "5a203323-5612-4a4f-9538-cc2e5c4afbab",
   "metadata": {},
   "outputs": [],
   "source": [
    "import pandas as pd\n",
    "import seaborn as sns\n",
    "from sklearn.preprocessing import LabelEncoder\n",
    "import matplotlib.pyplot as plt\n",
    "\n",
    "# ペンギンデータセットをロード\n",
    "penguins = sns.load_dataset('penguins')\n",
    "\n",
    "# NaN値を除去\n",
    "penguins.dropna(inplace=True)\n",
    "\n",
    "# ヒゲペンギン、ジェンツーペンギンの2種類を抽出\n",
    "penguins = penguins[penguins['species'].isin(['Chinstrap', 'Gentoo'])]\n",
    "\n",
    "# くちばしの長さ、奥行きを説明変数として選択\n",
    "features = ['bill_length_mm', 'bill_depth_mm']\n",
    "X = penguins[features]\n",
    "\n",
    "# 正解ラベルであるペンギンの種類を0と1の2値に変換\n",
    "le = LabelEncoder()\n",
    "y = le.fit_transform(penguins['species'])"
   ]
  },
  {
   "cell_type": "code",
   "execution_count": 3,
   "id": "44cbae74-a850-48e1-b902-32a368d7f7aa",
   "metadata": {},
   "outputs": [
    {
     "name": "stdout",
     "output_type": "stream",
     "text": [
      "Test set accuracy:  0.9736842105263158\n"
     ]
    }
   ],
   "source": [
    "from sklearn.model_selection import train_test_split\n",
    "from sklearn.linear_model import LogisticRegression\n",
    "\n",
    "# Split the data into training set and test set\n",
    "X_train, X_test, y_train, y_test = train_test_split(X, y, test_size=0.2, random_state=42)\n",
    "\n",
    "# Create a logistic regression model\n",
    "log_reg = LogisticRegression()\n",
    "\n",
    "# Train the model\n",
    "log_reg.fit(X_train, y_train)\n",
    "\n",
    "# Print the accuracy on the test set\n",
    "print(\"Test set accuracy: \", log_reg.score(X_test, y_test))"
   ]
  },
  {
   "cell_type": "code",
   "execution_count": null,
   "id": "0798733a-29c8-4ed7-a649-0a5f428bab81",
   "metadata": {},
   "outputs": [],
   "source": []
  }
 ],
 "metadata": {
  "kernelspec": {
   "display_name": "Python 3 (ipykernel)",
   "language": "python",
   "name": "python3"
  },
  "language_info": {
   "codemirror_mode": {
    "name": "ipython",
    "version": 3
   },
   "file_extension": ".py",
   "mimetype": "text/x-python",
   "name": "python",
   "nbconvert_exporter": "python",
   "pygments_lexer": "ipython3",
   "version": "3.8.13"
  }
 },
 "nbformat": 4,
 "nbformat_minor": 5
}
